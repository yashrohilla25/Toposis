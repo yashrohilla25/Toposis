{
  "nbformat": 4,
  "nbformat_minor": 0,
  "metadata": {
    "colab": {
      "provenance": [],
      "authorship_tag": "ABX9TyOUVR8lTKA1Gta8K5/SHtzB",
      "include_colab_link": true
    },
    "kernelspec": {
      "name": "python3",
      "display_name": "Python 3"
    },
    "language_info": {
      "name": "python"
    }
  },
  "cells": [
    {
      "cell_type": "markdown",
      "metadata": {
        "id": "view-in-github",
        "colab_type": "text"
      },
      "source": [
        "<a href=\"https://colab.research.google.com/github/yashrohilla25/Toposis/blob/main/toposis.ipynb\" target=\"_parent\"><img src=\"https://colab.research.google.com/assets/colab-badge.svg\" alt=\"Open In Colab\"/></a>"
      ]
    },
    {
      "cell_type": "code",
      "execution_count": 1,
      "metadata": {
        "colab": {
          "base_uri": "https://localhost:8080/",
          "height": 946
        },
        "id": "g8wnT5R6DhfL",
        "outputId": "c77dd5d1-78a9-46b5-afd7-55bed375ec50"
      },
      "outputs": [
        {
          "output_type": "stream",
          "name": "stdout",
          "text": [
            "Performance Metrics for Models:\n",
            "        Model  Accuracy  BLEU_Score  Inference_Time  Model_Size\n",
            "0        BART      0.87        0.45             1.2         120\n",
            "1          T5      0.85        0.44             1.5         220\n",
            "2     Pegasus      0.88        0.48             1.1         180\n",
            "3     GPT-3.5      0.91        0.52             2.3         355\n",
            "4  Longformer      0.84        0.43             1.8         270\n",
            "\n",
            "TOPSIS Results:\n",
            "        Model  Accuracy  BLEU_Score  Inference_Time  Model_Size  Closeness  \\\n",
            "2     Pegasus      0.88        0.48             1.1         180   0.813783   \n",
            "0        BART      0.87        0.45             1.2         120   0.768297   \n",
            "1          T5      0.85        0.44             1.5         220   0.565293   \n",
            "4  Longformer      0.84        0.43             1.8         270   0.360902   \n",
            "3     GPT-3.5      0.91        0.52             2.3         355   0.274286   \n",
            "\n",
            "   Rank  \n",
            "2     1  \n",
            "0     2  \n",
            "1     3  \n",
            "4     4  \n",
            "3     5  \n"
          ]
        },
        {
          "output_type": "display_data",
          "data": {
            "text/plain": [
              "<Figure size 1000x600 with 1 Axes>"
            ],
            "image/png": "[encoded data removed]"
          },
          "metadata": {}
        }
      ],
      "source": [
        "import numpy as np\n",
        "import pandas as pd\n",
        "import matplotlib.pyplot as plt\n",
        "\n",
        "# Sample performance metrics for pretrained models\n",
        "data = {\n",
        "    \"Model\": [\"BART\", \"T5\", \"Pegasus\", \"GPT-3.5\", \"Longformer\"],\n",
        "    \"Accuracy\": [0.87, 0.85, 0.88, 0.91, 0.84],\n",
        "    \"BLEU_Score\": [0.45, 0.44, 0.48, 0.52, 0.43],\n",
        "    \"Inference_Time\": [1.2, 1.5, 1.1, 2.3, 1.8],  # Lower is better\n",
        "    \"Model_Size\": [120, 220, 180, 355, 270],  # Lower is better\n",
        "}\n",
        "\n",
        "# Create DataFrame\n",
        "df = pd.DataFrame(data)\n",
        "\n",
        "# Display the initial dataset\n",
        "print(\"Performance Metrics for Models:\")\n",
        "print(df)\n",
        "\n",
        "# Step 1: Normalize the decision matrix\n",
        "def normalize(matrix):\n",
        "    return matrix / np.sqrt((matrix**2).sum(axis=0))\n",
        "\n",
        "# Step 2: Calculate the weighted normalized decision matrix\n",
        "def weighted_normalized_matrix(matrix, weights):\n",
        "    return matrix * weights\n",
        "\n",
        "# Step 3: Find the ideal and negative-ideal solutions\n",
        "def calculate_ideal_solutions(weighted_matrix, is_beneficial):\n",
        "    ideal_solution = np.max(weighted_matrix, axis=0) * is_beneficial + np.min(weighted_matrix, axis=0) * ~is_beneficial\n",
        "    negative_ideal_solution = np.min(weighted_matrix, axis=0) * is_beneficial + np.max(weighted_matrix, axis=0) * ~is_beneficial\n",
        "    return ideal_solution, negative_ideal_solution\n",
        "\n",
        "# Step 4: Calculate the distances to ideal and negative-ideal solutions\n",
        "def calculate_distances(weighted_matrix, ideal_solution, negative_ideal_solution):\n",
        "    distance_to_ideal = np.sqrt(((weighted_matrix - ideal_solution) ** 2).sum(axis=1))\n",
        "    distance_to_negative_ideal = np.sqrt(((weighted_matrix - negative_ideal_solution) ** 2).sum(axis=1))\n",
        "    return distance_to_ideal, distance_to_negative_ideal\n",
        "\n",
        "# Step 5: Calculate the relative closeness to the ideal solution\n",
        "def calculate_closeness(distance_to_ideal, distance_to_negative_ideal):\n",
        "    return distance_to_negative_ideal / (distance_to_ideal + distance_to_negative_ideal)\n",
        "\n",
        "# Prepare decision matrix\n",
        "criteria = df.drop(\"Model\", axis=1)\n",
        "decision_matrix = criteria.values\n",
        "\n",
        "# Define weights for the criteria (importance of each criterion)\n",
        "weights = np.array([0.4, 0.3, 0.2, 0.1])  # Adjust these weights based on priority\n",
        "\n",
        "# Define whether the criterion is beneficial (True) or non-beneficial (False)\n",
        "is_beneficial = np.array([True, True, False, False])\n",
        "\n",
        "# Normalize the matrix\n",
        "normalized_matrix = normalize(decision_matrix)\n",
        "\n",
        "# Calculate the weighted normalized matrix\n",
        "weighted_matrix = weighted_normalized_matrix(normalized_matrix, weights)\n",
        "\n",
        "# Find the ideal and negative-ideal solutions\n",
        "ideal_solution, negative_ideal_solution = calculate_ideal_solutions(weighted_matrix, is_beneficial)\n",
        "\n",
        "# Calculate distances\n",
        "distance_to_ideal, distance_to_negative_ideal = calculate_distances(weighted_matrix, ideal_solution, negative_ideal_solution)\n",
        "\n",
        "# Calculate relative closeness\n",
        "closeness = calculate_closeness(distance_to_ideal, distance_to_negative_ideal)\n",
        "\n",
        "# Add results to the DataFrame\n",
        "df[\"Closeness\"] = closeness\n",
        "df[\"Rank\"] = df[\"Closeness\"].rank(ascending=False).astype(int)\n",
        "\n",
        "# Sort by rank\n",
        "df_sorted = df.sort_values(\"Rank\")\n",
        "\n",
        "print(\"\\nTOPSIS Results:\")\n",
        "print(df_sorted)\n",
        "\n",
        "# Visualization: Closeness scores\n",
        "plt.figure(figsize=(10, 6))\n",
        "plt.barh(df_sorted[\"Model\"], df_sorted[\"Closeness\"], color='skyblue')\n",
        "plt.xlabel(\"Closeness to Ideal Solution\")\n",
        "plt.title(\"TOPSIS Analysis for Pretrained Models\")\n",
        "plt.gca().invert_yaxis()\n",
        "plt.show()\n"
      ]
    },
    {
      "cell_type": "code",
      "source": [
        "df_sorted.to_csv(\"topsis_results.csv\", index=False)\n",
        "from google.colab import files\n",
        "files.download(\"topsis_results.csv\")\n",
        "\n",
        "\n"
      ],
      "metadata": {
        "colab": {
          "base_uri": "https://localhost:8080/",
          "height": 17
        },
        "id": "c6yyHPqLEJ4h",
        "outputId": "12267f52-a995-456c-86db-04591552d9b7"
      },
      "execution_count": 2,
      "outputs": [
        {
          "output_type": "display_data",
          "data": {
            "text/plain": [
              "<IPython.core.display.Javascript object>"
            ],
            "application/javascript": [
              "\n",
              "    async function download(id, filename, size) {\n",
              "      if (!google.colab.kernel.accessAllowed) {\n",
              "        return;\n",
              "      }\n",
              "      const div = document.createElement('div');\n",
              "      const label = document.createElement('label');\n",
              "      label.textContent = `Downloading \"${filename}\": `;\n",
              "      div.appendChild(label);\n",
              "      const progress = document.createElement('progress');\n",
              "      progress.max = size;\n",
              "      div.appendChild(progress);\n",
              "      document.body.appendChild(div);\n",
              "\n",
              "      const buffers = [];\n",
              "      let downloaded = 0;\n",
              "\n",
              "      const channel = await google.colab.kernel.comms.open(id);\n",
              "      // Send a message to notify the kernel that we're ready.\n",
              "      channel.send({})\n",
              "\n",
              "      for await (const message of channel.messages) {\n",
              "        // Send a message to notify the kernel that we're ready.\n",
              "        channel.send({})\n",
              "        if (message.buffers) {\n",
              "          for (const buffer of message.buffers) {\n",
              "            buffers.push(buffer);\n",
              "            downloaded += buffer.byteLength;\n",
              "            progress.value = downloaded;\n",
              "          }\n",
              "        }\n",
              "      }\n",
              "      const blob = new Blob(buffers, {type: 'application/binary'});\n",
              "      const a = document.createElement('a');\n",
              "      a.href = window.URL.createObjectURL(blob);\n",
              "      a.download = filename;\n",
              "      div.appendChild(a);\n",
              "      a.click();\n",
              "      div.remove();\n",
              "    }\n",
              "  "
            ]
          },
          "metadata": {}
        },
        {
          "output_type": "display_data",
          "data": {
            "text/plain": [
              "<IPython.core.display.Javascript object>"
            ],
            "application/javascript": [
              "download(\"download_659104e3-d087-4080-9675-4d9c0a6a5b0c\", \"topsis_results.csv\", 297)"
            ]
          },
          "metadata": {}
        }
      ]
    }
  ]
}